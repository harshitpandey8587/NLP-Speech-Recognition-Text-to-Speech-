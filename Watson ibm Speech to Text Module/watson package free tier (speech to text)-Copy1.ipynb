{
 "cells": [
  {
   "cell_type": "code",
   "execution_count": 2,
   "metadata": {},
   "outputs": [
    {
     "name": "stdout",
     "output_type": "stream",
     "text": [
      "Collecting ibm_watson\n",
      "  Downloading ibm-watson-5.1.0.tar.gz (382 kB)\n",
      "Requirement already satisfied: requests<3.0,>=2.0 in c:\\users\\harsh\\anaconda3\\lib\\site-packages (from ibm_watson) (2.24.0)\n",
      "Requirement already satisfied: python_dateutil>=2.5.3 in c:\\users\\harsh\\anaconda3\\lib\\site-packages (from ibm_watson) (2.8.1)\n",
      "Collecting websocket-client==0.48.0\n",
      "  Downloading websocket_client-0.48.0-py2.py3-none-any.whl (198 kB)\n",
      "Collecting ibm_cloud_sdk_core>=3.3.6\n",
      "  Downloading ibm-cloud-sdk-core-3.9.0.tar.gz (38 kB)\n",
      "Requirement already satisfied: urllib3!=1.25.0,!=1.25.1,<1.26,>=1.21.1 in c:\\users\\harsh\\anaconda3\\lib\\site-packages (from requests<3.0,>=2.0->ibm_watson) (1.25.9)\n",
      "Requirement already satisfied: chardet<4,>=3.0.2 in c:\\users\\harsh\\anaconda3\\lib\\site-packages (from requests<3.0,>=2.0->ibm_watson) (3.0.4)\n",
      "Requirement already satisfied: idna<3,>=2.5 in c:\\users\\harsh\\anaconda3\\lib\\site-packages (from requests<3.0,>=2.0->ibm_watson) (2.10)\n",
      "Requirement already satisfied: certifi>=2017.4.17 in c:\\users\\harsh\\anaconda3\\lib\\site-packages (from requests<3.0,>=2.0->ibm_watson) (2020.12.5)\n",
      "Requirement already satisfied: six>=1.5 in c:\\users\\harsh\\anaconda3\\lib\\site-packages (from python_dateutil>=2.5.3->ibm_watson) (1.15.0)\n",
      "Collecting PyJWT<3.0.0,>=2.0.1\n",
      "  Downloading PyJWT-2.1.0-py3-none-any.whl (16 kB)\n",
      "Building wheels for collected packages: ibm-watson, ibm-cloud-sdk-core\n",
      "  Building wheel for ibm-watson (setup.py): started\n",
      "  Building wheel for ibm-watson (setup.py): finished with status 'done'\n",
      "  Created wheel for ibm-watson: filename=ibm_watson-5.1.0-py3-none-any.whl size=375438 sha256=5a401deeb8ce647f5a69272ab859e429088dca86dd97e3214e450d7db9a29d35\n",
      "  Stored in directory: c:\\users\\harsh\\appdata\\local\\pip\\cache\\wheels\\e6\\e5\\cf\\9e0c46ec51165c2a61af7f2d4fdd91df9c96071bb51264c828\n",
      "  Building wheel for ibm-cloud-sdk-core (setup.py): started\n",
      "  Building wheel for ibm-cloud-sdk-core (setup.py): finished with status 'done'\n",
      "  Created wheel for ibm-cloud-sdk-core: filename=ibm_cloud_sdk_core-3.9.0-py3-none-any.whl size=59612 sha256=2c2e76f5d45e70dc1f3a86622f2d550ed10d0efb07ac7f12b5d850819f4ab591\n",
      "  Stored in directory: c:\\users\\harsh\\appdata\\local\\pip\\cache\\wheels\\f4\\58\\84\\3059fe7cfcadfa9c709fe5979a1cd6f79ff82e047c5f0d01bd\n",
      "Successfully built ibm-watson ibm-cloud-sdk-core\n",
      "Installing collected packages: websocket-client, PyJWT, ibm-cloud-sdk-core, ibm-watson\n",
      "Successfully installed PyJWT-2.1.0 ibm-cloud-sdk-core-3.9.0 ibm-watson-5.1.0 websocket-client-0.48.0\n"
     ]
    }
   ],
   "source": [
    "# Installing ibm_watson\n",
    "\n",
    "!pip install ibm_watson"
   ]
  },
  {
   "cell_type": "code",
   "execution_count": 6,
   "metadata": {},
   "outputs": [],
   "source": [
    "from ibm_watson import SpeechToTextV1\n",
    "from ibm_cloud_sdk_core.authenticators import IAMAuthenticator"
   ]
  },
  {
   "cell_type": "code",
   "execution_count": 7,
   "metadata": {},
   "outputs": [],
   "source": [
    "#Setting up the API key and url link from cloud.ibm.com\n",
    "\n",
    "apikey = 'Your API key'\n",
    "url = 'The defined URL'"
   ]
  },
  {
   "cell_type": "code",
   "execution_count": 8,
   "metadata": {},
   "outputs": [],
   "source": [
    "# Setup Service\n",
    "authenticator = IAMAuthenticator(apikey)\n",
    "stt = SpeechToTextV1(authenticator=authenticator)\n",
    "stt.set_service_url(url)"
   ]
  },
  {
   "cell_type": "code",
   "execution_count": 23,
   "metadata": {},
   "outputs": [],
   "source": [
    "# Perform conversion\n",
    "with open('Recording1.mp3', 'rb') as f:\n",
    "    res = stt.recognize(audio=f, content_type='audio/mp3', model='en-GB_BroadbandModel', continuous=True).get_result()"
   ]
  },
  {
   "cell_type": "code",
   "execution_count": 24,
   "metadata": {},
   "outputs": [
    {
     "data": {
      "text/plain": [
       "{'result_index': 0,\n",
       " 'results': [{'final': True,\n",
       "   'alternatives': [{'transcript': 'hi my self hardship I am going to desk Watson W. or cloud speech to text for you ',\n",
       "     'confidence': 0.65}]}]}"
      ]
     },
     "execution_count": 24,
     "metadata": {},
     "output_type": "execute_result"
    }
   ],
   "source": [
    "res"
   ]
  },
  {
   "cell_type": "code",
   "execution_count": null,
   "metadata": {},
   "outputs": [],
   "source": [
    "en-US_ShortForm_NarrowbandModel"
   ]
  },
  {
   "cell_type": "code",
   "execution_count": 25,
   "metadata": {},
   "outputs": [],
   "source": [
    "# Perform conversion\n",
    "with open('Recording1.mp3', 'rb') as f:\n",
    "    res = stt.recognize(audio=f, content_type='audio/mp3', model='en-US_ShortForm_NarrowbandModel', continuous=True).get_result()"
   ]
  },
  {
   "cell_type": "code",
   "execution_count": 26,
   "metadata": {},
   "outputs": [
    {
     "data": {
      "text/plain": [
       "{'result_index': 0,\n",
       " 'results': [{'final': True,\n",
       "   'alternatives': [{'transcript': 'hi my cents harshest I am going to does Watson developer cloud speech to text what do you ',\n",
       "     'confidence': 0.77}]}]}"
      ]
     },
     "execution_count": 26,
     "metadata": {},
     "output_type": "execute_result"
    }
   ],
   "source": [
    "res"
   ]
  },
  {
   "cell_type": "code",
   "execution_count": null,
   "metadata": {},
   "outputs": [],
   "source": []
  }
 ],
 "metadata": {
  "kernelspec": {
   "display_name": "Python 3",
   "language": "python",
   "name": "python3"
  },
  "language_info": {
   "codemirror_mode": {
    "name": "ipython",
    "version": 3
   },
   "file_extension": ".py",
   "mimetype": "text/x-python",
   "name": "python",
   "nbconvert_exporter": "python",
   "pygments_lexer": "ipython3",
   "version": "3.8.3"
  }
 },
 "nbformat": 4,
 "nbformat_minor": 4
}
